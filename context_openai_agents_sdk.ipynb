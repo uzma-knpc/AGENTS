{
  "nbformat": 4,
  "nbformat_minor": 0,
  "metadata": {
    "colab": {
      "provenance": [],
      "include_colab_link": true
    },
    "kernelspec": {
      "name": "python3",
      "display_name": "Python 3"
    },
    "language_info": {
      "name": "python"
    }
  },
  "cells": [
    {
      "cell_type": "markdown",
      "metadata": {
        "id": "view-in-github",
        "colab_type": "text"
      },
      "source": [
        "<a href=\"https://colab.research.google.com/github/uzma-knpc/AGENTS/blob/main/context_openai_agents_sdk.ipynb\" target=\"_parent\"><img src=\"https://colab.research.google.com/assets/colab-badge.svg\" alt=\"Open In Colab\"/></a>"
      ]
    },
    {
      "cell_type": "markdown",
      "metadata": {
        "id": "PdKwzEluDBN7"
      },
      "source": [
        "# Install openai-agents SDK"
      ]
    },
    {
      "cell_type": "code",
      "execution_count": 1,
      "metadata": {
        "id": "3QdkOviEB2ay",
        "colab": {
          "base_uri": "https://localhost:8080/"
        },
        "outputId": "458d9fc1-f62e-4d7a-88ca-23e866362464"
      },
      "outputs": [
        {
          "output_type": "stream",
          "name": "stdout",
          "text": [
            "\u001b[?25l   \u001b[90m━━━━━━━━━━━━━━━━━━━━━━━━━━━━━━━━━━━━━━━━\u001b[0m \u001b[32m0.0/116.9 kB\u001b[0m \u001b[31m?\u001b[0m eta \u001b[36m-:--:--\u001b[0m\r\u001b[2K   \u001b[90m━━━━━━━━━━━━━━━━━━━━━━━━━━━━━━━━━━━━━━━━\u001b[0m \u001b[32m116.9/116.9 kB\u001b[0m \u001b[31m3.5 MB/s\u001b[0m eta \u001b[36m0:00:00\u001b[0m\n",
            "\u001b[?25h\u001b[?25l   \u001b[90m━━━━━━━━━━━━━━━━━━━━━━━━━━━━━━━━━━━━━━━━\u001b[0m \u001b[32m0.0/129.3 kB\u001b[0m \u001b[31m?\u001b[0m eta \u001b[36m-:--:--\u001b[0m\r\u001b[2K   \u001b[90m━━━━━━━━━━━━━━━━━━━━━━━━━━━━━━━━━━━━━━━━\u001b[0m \u001b[32m129.3/129.3 kB\u001b[0m \u001b[31m5.6 MB/s\u001b[0m eta \u001b[36m0:00:00\u001b[0m\n",
            "\u001b[2K   \u001b[90m━━━━━━━━━━━━━━━━━━━━━━━━━━━━━━━━━━━━━━━━\u001b[0m \u001b[32m100.4/100.4 kB\u001b[0m \u001b[31m4.3 MB/s\u001b[0m eta \u001b[36m0:00:00\u001b[0m\n",
            "\u001b[2K   \u001b[90m━━━━━━━━━━━━━━━━━━━━━━━━━━━━━━━━━━━━━━━━\u001b[0m \u001b[32m44.4/44.4 kB\u001b[0m \u001b[31m1.5 MB/s\u001b[0m eta \u001b[36m0:00:00\u001b[0m\n",
            "\u001b[2K   \u001b[90m━━━━━━━━━━━━━━━━━━━━━━━━━━━━━━━━━━━━━━━━\u001b[0m \u001b[32m72.0/72.0 kB\u001b[0m \u001b[31m4.7 MB/s\u001b[0m eta \u001b[36m0:00:00\u001b[0m\n",
            "\u001b[2K   \u001b[90m━━━━━━━━━━━━━━━━━━━━━━━━━━━━━━━━━━━━━━━━\u001b[0m \u001b[32m62.5/62.5 kB\u001b[0m \u001b[31m2.4 MB/s\u001b[0m eta \u001b[36m0:00:00\u001b[0m\n",
            "\u001b[?25h"
          ]
        }
      ],
      "source": [
        "!pip install -Uq openai-agents"
      ]
    },
    {
      "cell_type": "markdown",
      "metadata": {
        "id": "7yD91lz4DIAx"
      },
      "source": [
        "# Make your Notebook capable of running asynchronous functions.\n",
        "Both Jupyter notebooks and Python’s asyncio library utilize event loops, but they serve different purposes and can sometimes interfere with each other.\n",
        "\n",
        "The nest_asyncio library allows the existing event loop to accept nested event loops, enabling asyncio code to run within environments that already have an event loop, such as Jupyter notebooks.\n",
        "\n",
        "In summary, both Jupyter notebooks and Python’s asyncio library utilize event loops to manage asynchronous operations. When working within Jupyter notebooks, it’s essential to be aware of the existing event loop to effectively run asyncio code without conflicts."
      ]
    },
    {
      "cell_type": "code",
      "source": [
        "import nest_asyncio\n",
        "nest_asyncio.apply()"
      ],
      "metadata": {
        "id": "C8YXyIpiZ9v4"
      },
      "execution_count": 2,
      "outputs": []
    },
    {
      "cell_type": "markdown",
      "source": [
        "# Config"
      ],
      "metadata": {
        "id": "wQsVowow7ihQ"
      }
    },
    {
      "cell_type": "code",
      "execution_count": 4,
      "metadata": {
        "id": "XnusaX_RWF22"
      },
      "outputs": [],
      "source": [
        "from pydantic import BaseModel\n",
        "from agents import (\n",
        "    AsyncOpenAI,\n",
        "    OpenAIChatCompletionsModel,\n",
        "    RunConfig\n",
        ")\n",
        "from google.colab import userdata\n"
      ]
    },
    {
      "cell_type": "code",
      "source": [
        "gemini_api_key = userdata.get(\"GOOGLE_API_KEY\")\n",
        "\n",
        "\n",
        "# Check if the API key is present; if not, raise an error\n",
        "if not gemini_api_key:\n",
        "    raise ValueError(\"GEMINI_API_KEY is not set. Please ensure it is defined in your .env file.\")\n",
        "\n",
        "#Reference: https://ai.google.dev/gemini-api/docs/openai\n",
        "external_client = AsyncOpenAI(\n",
        "    api_key=gemini_api_key,\n",
        "    base_url=\"https://generativelanguage.googleapis.com/v1beta/openai/\",\n",
        ")\n",
        "\n",
        "model = OpenAIChatCompletionsModel(\n",
        "    model=\"gemini-1.5-flash\",\n",
        "    openai_client=external_client\n",
        ")"
      ],
      "metadata": {
        "id": "oPvcFwItoKqw"
      },
      "execution_count": 6,
      "outputs": []
    },
    {
      "cell_type": "code",
      "source": [
        "from agents import set_default_openai_client, set_tracing_disabled\n",
        "set_default_openai_client(external_client)\n",
        "set_tracing_disabled(True)"
      ],
      "metadata": {
        "id": "y9LkW-F7nC3T"
      },
      "execution_count": 7,
      "outputs": []
    },
    {
      "cell_type": "markdown",
      "source": [
        "# Context Management\n",
        "\n",
        "\n",
        "Context available locally to your code: this is data and dependencies you might need when tool functions run, during callbacks like on_handoff, in lifecycle hooks, etc.\n",
        "- You create any Python object you want. A common pattern is to use a dataclass or a Pydantic object.\n",
        "- You pass that object to the various run methods (e.g. Runner.run(..., **context=whatever**)).\n",
        "- All your tool calls, lifecycle hooks etc will be passed a wrapper object, - RunContextWrapper[T], where T represents your context object type which you can access via wrapper.context.\n",
        "- The most important thing to be aware of: every agent, tool function, lifecycle etc for a given agent run must use the same type of context.\n",
        "\n",
        "You can use the context for things like:\n",
        "- Contextual data for your run (e.g. things like a username/uid or other information about the user)\n",
        "- Dependencies (e.g. logger objects, data fetchers, etc)\n",
        "- Helper functions\n",
        "\n",
        "[Learning Reference](https://openai.github.io/openai-agents-python/context/)"
      ],
      "metadata": {
        "id": "rWL7EnI_7mIF"
      }
    },
    {
      "cell_type": "markdown",
      "source": [
        "# Local Context"
      ],
      "metadata": {
        "id": "ZRKxdIYbnL6w"
      }
    },
    {
      "cell_type": "code",
      "source": [
        "import asyncio\n",
        "from dataclasses import dataclass\n",
        "\n",
        "from agents import Agent, RunContextWrapper, Runner, function_tool\n",
        "\n",
        "@dataclass\n",
        "class UserInfo1:\n",
        "    name: str\n",
        "    uid: int\n",
        "    location: str = \"Pakistan\"\n",
        "\n",
        "@function_tool\n",
        "async def fetch_user_age(wrapper: RunContextWrapper[UserInfo1]) -> str:\n",
        "    '''Returns the age of the user.'''\n",
        "    print(\"[-> Tool]\",wrapper,\"\\n\\n\")\n",
        "    return f\"User {wrapper.context.name} is 30 years old\"\n",
        "\n",
        "@function_tool\n",
        "async def fetch_user_location(wrapper: RunContextWrapper[UserInfo1]) -> str:\n",
        "    '''Returns the location of the user.'''\n",
        "    return f\"User {wrapper.context.name} is from {wrapper.context.age} years old\"\n",
        "\n",
        "async def main():\n",
        "    user_info = UserInfo1(name=\"Muhammad Qasim\", uid=123,age=20)\n",
        "\n",
        "    agent = Agent[UserInfo1](\n",
        "        name=\"Assistant\",\n",
        "        tools=[fetch_user_age,fetch_user_location],\n",
        "        model=model\n",
        "    )\n",
        "\n",
        "    result = await Runner.run(\n",
        "        starting_agent=agent,\n",
        "        input=\"What is the age of the user? current location of his/her?\",\n",
        "        context=user_info,\n",
        "    )\n",
        "\n",
        "    print(result.final_output)\n",
        "    # The user John is 47 years old.\n",
        "\n",
        "if __name__ == \"__main__\":\n",
        "    asyncio.run(main())"
      ],
      "metadata": {
        "colab": {
          "base_uri": "https://localhost:8080/"
        },
        "id": "uLTfHV0CnNgJ",
        "outputId": "bbfc362e-cfa7-4e56-f7a9-3ddfae14f374"
      },
      "execution_count": null,
      "outputs": [
        {
          "output_type": "stream",
          "name": "stdout",
          "text": [
            "The user is 30 years old and is from Pakistan.\n"
          ]
        }
      ]
    },
    {
      "cell_type": "markdown",
      "source": [
        "# Agent/LLM context"
      ],
      "metadata": {
        "id": "YHG3kocopOxV"
      }
    },
    {
      "cell_type": "code",
      "source": [
        "from agents import enable_verbose_stdout_logging\n",
        "\n",
        "enable_verbose_stdout_logging()"
      ],
      "metadata": {
        "id": "pHh_IUkwq9j6"
      },
      "execution_count": null,
      "outputs": []
    },
    {
      "cell_type": "code",
      "source": [
        "import asyncio\n",
        "from dataclasses import dataclass\n",
        "\n",
        "from agents import Agent, RunContextWrapper, Runner, function_tool\n",
        "\n",
        "@dataclass\n",
        "class UserInfo:\n",
        "    name: str\n",
        "    uid: int\n",
        "\n",
        "@function_tool\n",
        "async def greet_user(context: RunContextWrapper[UserInfo], greeting: str) -> str:\n",
        "  \"\"\"Greets the User with their name.\n",
        "  Args:\n",
        "    greeting: A specialed greeting message for user\n",
        "  \"\"\"\n",
        "  name = context.context.name\n",
        "  return f\"Hello {name}, {greeting}\"\n",
        "\n",
        "async def main():\n",
        "    user_info = UserInfo(name=\"Muhammad Qasim\", uid=123)\n",
        "\n",
        "    agent = Agent[UserInfo](\n",
        "        name=\"Assistant\",\n",
        "        tools=[greet_user],\n",
        "        model=model,\n",
        "        # Dynamic function context pass in instructions/system prompmt/developer prompt\n",
        "        instructions=\"Always greet the user using <function_call>greet_user</function_call> and welcome them to Panaversity\"\n",
        "    )\n",
        "\n",
        "    result = await Runner.run(\n",
        "        starting_agent=agent,\n",
        "        input=\"Hello\",\n",
        "        context=user_info,\n",
        "    )\n",
        "\n",
        "    print(result.final_output)\n",
        "\n",
        "asyncio.run(main())"
      ],
      "metadata": {
        "id": "2XzWlsI2yue2",
        "colab": {
          "base_uri": "https://localhost:8080/"
        },
        "outputId": "286e7fff-b9f6-4564-c6a5-6c6d0fe9714f"
      },
      "execution_count": null,
      "outputs": [
        {
          "output_type": "stream",
          "name": "stdout",
          "text": [
            "Tracing is disabled. Not creating trace Agent workflow\n"
          ]
        },
        {
          "output_type": "stream",
          "name": "stderr",
          "text": [
            "DEBUG:openai.agents:Tracing is disabled. Not creating trace Agent workflow\n"
          ]
        },
        {
          "output_type": "stream",
          "name": "stdout",
          "text": [
            "Setting current trace: no-op\n"
          ]
        },
        {
          "output_type": "stream",
          "name": "stderr",
          "text": [
            "DEBUG:openai.agents:Setting current trace: no-op\n"
          ]
        },
        {
          "output_type": "stream",
          "name": "stdout",
          "text": [
            "Tracing is disabled. Not creating span <agents.tracing.span_data.AgentSpanData object at 0x7a07754cc5f0>\n"
          ]
        },
        {
          "output_type": "stream",
          "name": "stderr",
          "text": [
            "DEBUG:openai.agents:Tracing is disabled. Not creating span <agents.tracing.span_data.AgentSpanData object at 0x7a07754cc5f0>\n"
          ]
        },
        {
          "output_type": "stream",
          "name": "stdout",
          "text": [
            "Running agent Assistant (turn 1)\n"
          ]
        },
        {
          "output_type": "stream",
          "name": "stderr",
          "text": [
            "DEBUG:openai.agents:Running agent Assistant (turn 1)\n"
          ]
        },
        {
          "output_type": "stream",
          "name": "stdout",
          "text": [
            "Tracing is disabled. Not creating span <agents.tracing.span_data.GenerationSpanData object at 0x7a07754cc890>\n"
          ]
        },
        {
          "output_type": "stream",
          "name": "stderr",
          "text": [
            "DEBUG:openai.agents:Tracing is disabled. Not creating span <agents.tracing.span_data.GenerationSpanData object at 0x7a07754cc890>\n"
          ]
        },
        {
          "output_type": "stream",
          "name": "stdout",
          "text": [
            "[\n",
            "  {\n",
            "    \"content\": \"Always greet the user using <function_call>greet_user</function_call> and welcome them to Panaversity\",\n",
            "    \"role\": \"system\"\n",
            "  },\n",
            "  {\n",
            "    \"role\": \"user\",\n",
            "    \"content\": \"Hello\"\n",
            "  }\n",
            "]\n",
            "Tools:\n",
            "[\n",
            "  {\n",
            "    \"type\": \"function\",\n",
            "    \"function\": {\n",
            "      \"name\": \"greet_user\",\n",
            "      \"description\": \"Greets the User with their name.\\nArgs:\\n  greeting: A specialed greeting message for user\",\n",
            "      \"parameters\": {\n",
            "        \"properties\": {\n",
            "          \"greeting\": {\n",
            "            \"title\": \"Greeting\",\n",
            "            \"type\": \"string\"\n",
            "          }\n",
            "        },\n",
            "        \"required\": [\n",
            "          \"greeting\"\n",
            "        ],\n",
            "        \"title\": \"greet_user_args\",\n",
            "        \"type\": \"object\",\n",
            "        \"additionalProperties\": false\n",
            "      }\n",
            "    }\n",
            "  }\n",
            "]\n",
            "Stream: False\n",
            "Tool choice: NOT_GIVEN\n",
            "Response format: NOT_GIVEN\n",
            "\n"
          ]
        },
        {
          "output_type": "stream",
          "name": "stderr",
          "text": [
            "DEBUG:openai.agents:[\n",
            "  {\n",
            "    \"content\": \"Always greet the user using <function_call>greet_user</function_call> and welcome them to Panaversity\",\n",
            "    \"role\": \"system\"\n",
            "  },\n",
            "  {\n",
            "    \"role\": \"user\",\n",
            "    \"content\": \"Hello\"\n",
            "  }\n",
            "]\n",
            "Tools:\n",
            "[\n",
            "  {\n",
            "    \"type\": \"function\",\n",
            "    \"function\": {\n",
            "      \"name\": \"greet_user\",\n",
            "      \"description\": \"Greets the User with their name.\\nArgs:\\n  greeting: A specialed greeting message for user\",\n",
            "      \"parameters\": {\n",
            "        \"properties\": {\n",
            "          \"greeting\": {\n",
            "            \"title\": \"Greeting\",\n",
            "            \"type\": \"string\"\n",
            "          }\n",
            "        },\n",
            "        \"required\": [\n",
            "          \"greeting\"\n",
            "        ],\n",
            "        \"title\": \"greet_user_args\",\n",
            "        \"type\": \"object\",\n",
            "        \"additionalProperties\": false\n",
            "      }\n",
            "    }\n",
            "  }\n",
            "]\n",
            "Stream: False\n",
            "Tool choice: NOT_GIVEN\n",
            "Response format: NOT_GIVEN\n",
            "\n"
          ]
        },
        {
          "output_type": "stream",
          "name": "stdout",
          "text": [
            "LLM resp:\n",
            "{\n",
            "  \"content\": null,\n",
            "  \"refusal\": null,\n",
            "  \"role\": \"assistant\",\n",
            "  \"annotations\": null,\n",
            "  \"audio\": null,\n",
            "  \"function_call\": null,\n",
            "  \"tool_calls\": [\n",
            "    {\n",
            "      \"id\": \"\",\n",
            "      \"function\": {\n",
            "        \"arguments\": \"{\\\"greeting\\\":\\\"Welcome to Panaversity!\\\"}\",\n",
            "        \"name\": \"greet_user\"\n",
            "      },\n",
            "      \"type\": \"function\"\n",
            "    }\n",
            "  ]\n",
            "}\n",
            "\n"
          ]
        },
        {
          "output_type": "stream",
          "name": "stderr",
          "text": [
            "DEBUG:openai.agents:LLM resp:\n",
            "{\n",
            "  \"content\": null,\n",
            "  \"refusal\": null,\n",
            "  \"role\": \"assistant\",\n",
            "  \"annotations\": null,\n",
            "  \"audio\": null,\n",
            "  \"function_call\": null,\n",
            "  \"tool_calls\": [\n",
            "    {\n",
            "      \"id\": \"\",\n",
            "      \"function\": {\n",
            "        \"arguments\": \"{\\\"greeting\\\":\\\"Welcome to Panaversity!\\\"}\",\n",
            "        \"name\": \"greet_user\"\n",
            "      },\n",
            "      \"type\": \"function\"\n",
            "    }\n",
            "  ]\n",
            "}\n",
            "\n"
          ]
        },
        {
          "output_type": "stream",
          "name": "stdout",
          "text": [
            "Tracing is disabled. Not creating span <agents.tracing.span_data.FunctionSpanData object at 0x7a07754ccb90>\n"
          ]
        },
        {
          "output_type": "stream",
          "name": "stderr",
          "text": [
            "DEBUG:openai.agents:Tracing is disabled. Not creating span <agents.tracing.span_data.FunctionSpanData object at 0x7a07754ccb90>\n"
          ]
        },
        {
          "output_type": "stream",
          "name": "stdout",
          "text": [
            "Invoking tool greet_user with input {\"greeting\":\"Welcome to Panaversity!\"}\n"
          ]
        },
        {
          "output_type": "stream",
          "name": "stderr",
          "text": [
            "DEBUG:openai.agents:Invoking tool greet_user with input {\"greeting\":\"Welcome to Panaversity!\"}\n"
          ]
        },
        {
          "output_type": "stream",
          "name": "stdout",
          "text": [
            "Tool call args: ['Welcome to Panaversity!'], kwargs: {}\n"
          ]
        },
        {
          "output_type": "stream",
          "name": "stderr",
          "text": [
            "DEBUG:openai.agents:Tool call args: ['Welcome to Panaversity!'], kwargs: {}\n"
          ]
        },
        {
          "output_type": "stream",
          "name": "stdout",
          "text": [
            "Tool greet_user returned Hello Muhammad Qasim, Welcome to Panaversity!\n"
          ]
        },
        {
          "output_type": "stream",
          "name": "stderr",
          "text": [
            "DEBUG:openai.agents:Tool greet_user returned Hello Muhammad Qasim, Welcome to Panaversity!\n"
          ]
        },
        {
          "output_type": "stream",
          "name": "stdout",
          "text": [
            "Running agent Assistant (turn 2)\n"
          ]
        },
        {
          "output_type": "stream",
          "name": "stderr",
          "text": [
            "DEBUG:openai.agents:Running agent Assistant (turn 2)\n"
          ]
        },
        {
          "output_type": "stream",
          "name": "stdout",
          "text": [
            "Tracing is disabled. Not creating span <agents.tracing.span_data.GenerationSpanData object at 0x7a07754ccbf0>\n"
          ]
        },
        {
          "output_type": "stream",
          "name": "stderr",
          "text": [
            "DEBUG:openai.agents:Tracing is disabled. Not creating span <agents.tracing.span_data.GenerationSpanData object at 0x7a07754ccbf0>\n"
          ]
        },
        {
          "output_type": "stream",
          "name": "stdout",
          "text": [
            "[\n",
            "  {\n",
            "    \"content\": \"Always greet the user using <function_call>greet_user</function_call> and welcome them to Panaversity\",\n",
            "    \"role\": \"system\"\n",
            "  },\n",
            "  {\n",
            "    \"role\": \"user\",\n",
            "    \"content\": \"Hello\"\n",
            "  },\n",
            "  {\n",
            "    \"role\": \"assistant\",\n",
            "    \"tool_calls\": [\n",
            "      {\n",
            "        \"id\": \"\",\n",
            "        \"type\": \"function\",\n",
            "        \"function\": {\n",
            "          \"name\": \"greet_user\",\n",
            "          \"arguments\": \"{\\\"greeting\\\":\\\"Welcome to Panaversity!\\\"}\"\n",
            "        }\n",
            "      }\n",
            "    ]\n",
            "  },\n",
            "  {\n",
            "    \"role\": \"tool\",\n",
            "    \"tool_call_id\": \"\",\n",
            "    \"content\": \"Hello Muhammad Qasim, Welcome to Panaversity!\"\n",
            "  }\n",
            "]\n",
            "Tools:\n",
            "[\n",
            "  {\n",
            "    \"type\": \"function\",\n",
            "    \"function\": {\n",
            "      \"name\": \"greet_user\",\n",
            "      \"description\": \"Greets the User with their name.\\nArgs:\\n  greeting: A specialed greeting message for user\",\n",
            "      \"parameters\": {\n",
            "        \"properties\": {\n",
            "          \"greeting\": {\n",
            "            \"title\": \"Greeting\",\n",
            "            \"type\": \"string\"\n",
            "          }\n",
            "        },\n",
            "        \"required\": [\n",
            "          \"greeting\"\n",
            "        ],\n",
            "        \"title\": \"greet_user_args\",\n",
            "        \"type\": \"object\",\n",
            "        \"additionalProperties\": false\n",
            "      }\n",
            "    }\n",
            "  }\n",
            "]\n",
            "Stream: False\n",
            "Tool choice: NOT_GIVEN\n",
            "Response format: NOT_GIVEN\n",
            "\n"
          ]
        },
        {
          "output_type": "stream",
          "name": "stderr",
          "text": [
            "DEBUG:openai.agents:[\n",
            "  {\n",
            "    \"content\": \"Always greet the user using <function_call>greet_user</function_call> and welcome them to Panaversity\",\n",
            "    \"role\": \"system\"\n",
            "  },\n",
            "  {\n",
            "    \"role\": \"user\",\n",
            "    \"content\": \"Hello\"\n",
            "  },\n",
            "  {\n",
            "    \"role\": \"assistant\",\n",
            "    \"tool_calls\": [\n",
            "      {\n",
            "        \"id\": \"\",\n",
            "        \"type\": \"function\",\n",
            "        \"function\": {\n",
            "          \"name\": \"greet_user\",\n",
            "          \"arguments\": \"{\\\"greeting\\\":\\\"Welcome to Panaversity!\\\"}\"\n",
            "        }\n",
            "      }\n",
            "    ]\n",
            "  },\n",
            "  {\n",
            "    \"role\": \"tool\",\n",
            "    \"tool_call_id\": \"\",\n",
            "    \"content\": \"Hello Muhammad Qasim, Welcome to Panaversity!\"\n",
            "  }\n",
            "]\n",
            "Tools:\n",
            "[\n",
            "  {\n",
            "    \"type\": \"function\",\n",
            "    \"function\": {\n",
            "      \"name\": \"greet_user\",\n",
            "      \"description\": \"Greets the User with their name.\\nArgs:\\n  greeting: A specialed greeting message for user\",\n",
            "      \"parameters\": {\n",
            "        \"properties\": {\n",
            "          \"greeting\": {\n",
            "            \"title\": \"Greeting\",\n",
            "            \"type\": \"string\"\n",
            "          }\n",
            "        },\n",
            "        \"required\": [\n",
            "          \"greeting\"\n",
            "        ],\n",
            "        \"title\": \"greet_user_args\",\n",
            "        \"type\": \"object\",\n",
            "        \"additionalProperties\": false\n",
            "      }\n",
            "    }\n",
            "  }\n",
            "]\n",
            "Stream: False\n",
            "Tool choice: NOT_GIVEN\n",
            "Response format: NOT_GIVEN\n",
            "\n"
          ]
        },
        {
          "output_type": "stream",
          "name": "stdout",
          "text": [
            "LLM resp:\n",
            "{\n",
            "  \"content\": \"Hello Muhammad Qasim, Welcome to Panaversity!\\n\",\n",
            "  \"refusal\": null,\n",
            "  \"role\": \"assistant\",\n",
            "  \"annotations\": null,\n",
            "  \"audio\": null,\n",
            "  \"function_call\": null,\n",
            "  \"tool_calls\": null\n",
            "}\n",
            "\n"
          ]
        },
        {
          "output_type": "stream",
          "name": "stderr",
          "text": [
            "DEBUG:openai.agents:LLM resp:\n",
            "{\n",
            "  \"content\": \"Hello Muhammad Qasim, Welcome to Panaversity!\\n\",\n",
            "  \"refusal\": null,\n",
            "  \"role\": \"assistant\",\n",
            "  \"annotations\": null,\n",
            "  \"audio\": null,\n",
            "  \"function_call\": null,\n",
            "  \"tool_calls\": null\n",
            "}\n",
            "\n"
          ]
        },
        {
          "output_type": "stream",
          "name": "stdout",
          "text": [
            "Resetting current trace\n"
          ]
        },
        {
          "output_type": "stream",
          "name": "stderr",
          "text": [
            "DEBUG:openai.agents:Resetting current trace\n"
          ]
        },
        {
          "output_type": "stream",
          "name": "stdout",
          "text": [
            "Hello Muhammad Qasim, Welcome to Panaversity!\n",
            "\n"
          ]
        }
      ]
    },
    {
      "cell_type": "code",
      "source": [],
      "metadata": {
        "id": "12QCqbm8ePnW"
      },
      "execution_count": null,
      "outputs": []
    },
    {
      "cell_type": "code",
      "source": [
        "import asyncio\n",
        "from dataclasses import dataclass\n",
        "\n",
        "from agents import Agent, RunContextWrapper, Runner, function_tool\n",
        "\n",
        "@dataclass\n",
        "class UserInfo:\n",
        "    name: str\n",
        "    uid: int\n",
        "\n",
        "@function_tool\n",
        "async def greet_user(context: RunContextWrapper[UserInfo], greeting: str) -> str:\n",
        "  \"\"\"Greets the User with their name.\n",
        "  Args:\n",
        "    greeting: A specialed greeting message for user\n",
        "  \"\"\"\n",
        "  name = context.context.name\n",
        "  return f\"Hello {name}, {greeting}\"\n",
        "\n",
        "async def main():\n",
        "    user_info = UserInfo(name=\"Junaid\", uid=123)\n",
        "\n",
        "    agent = Agent[UserInfo](\n",
        "        name=\"Assistant\",\n",
        "        tools=[greet_user],\n",
        "        model=model,\n",
        "        instructions=\"Always greet the user using <function_call>greet_user</function_call> and welcome them to Panaversity\"\n",
        "    )\n",
        "\n",
        "    result = await Runner.run(\n",
        "        starting_agent=agent,\n",
        "        input=\"Hello\",\n",
        "        context=user_info,\n",
        "    )\n",
        "\n",
        "    print(result.final_output)\n",
        "\n",
        "asyncio.run(main())"
      ],
      "metadata": {
        "colab": {
          "base_uri": "https://localhost:8080/"
        },
        "id": "6C0tEQPuguki",
        "outputId": "3aa822ac-4156-43c0-9c62-a6cdf8fcefc8"
      },
      "execution_count": null,
      "outputs": [
        {
          "output_type": "stream",
          "name": "stdout",
          "text": [
            "Tracing is disabled. Not creating trace Agent workflow\n"
          ]
        },
        {
          "output_type": "stream",
          "name": "stderr",
          "text": [
            "DEBUG:openai.agents:Tracing is disabled. Not creating trace Agent workflow\n"
          ]
        },
        {
          "output_type": "stream",
          "name": "stdout",
          "text": [
            "Setting current trace: no-op\n"
          ]
        },
        {
          "output_type": "stream",
          "name": "stderr",
          "text": [
            "DEBUG:openai.agents:Setting current trace: no-op\n"
          ]
        },
        {
          "output_type": "stream",
          "name": "stdout",
          "text": [
            "Tracing is disabled. Not creating span <agents.tracing.span_data.AgentSpanData object at 0x78b2cb02ce90>\n"
          ]
        },
        {
          "output_type": "stream",
          "name": "stderr",
          "text": [
            "DEBUG:openai.agents:Tracing is disabled. Not creating span <agents.tracing.span_data.AgentSpanData object at 0x78b2cb02ce90>\n"
          ]
        },
        {
          "output_type": "stream",
          "name": "stdout",
          "text": [
            "Running agent Assistant (turn 1)\n"
          ]
        },
        {
          "output_type": "stream",
          "name": "stderr",
          "text": [
            "DEBUG:openai.agents:Running agent Assistant (turn 1)\n"
          ]
        },
        {
          "output_type": "stream",
          "name": "stdout",
          "text": [
            "Tracing is disabled. Not creating span <agents.tracing.span_data.GenerationSpanData object at 0x78b2cb190950>\n"
          ]
        },
        {
          "output_type": "stream",
          "name": "stderr",
          "text": [
            "DEBUG:openai.agents:Tracing is disabled. Not creating span <agents.tracing.span_data.GenerationSpanData object at 0x78b2cb190950>\n"
          ]
        },
        {
          "output_type": "stream",
          "name": "stdout",
          "text": [
            "[\n",
            "  {\n",
            "    \"content\": \"Always greet the user using <function_call>greet_user</function_call> and welcome them to Panaversity\",\n",
            "    \"role\": \"system\"\n",
            "  },\n",
            "  {\n",
            "    \"role\": \"user\",\n",
            "    \"content\": \"Hello\"\n",
            "  }\n",
            "]\n",
            "Tools:\n",
            "[\n",
            "  {\n",
            "    \"type\": \"function\",\n",
            "    \"function\": {\n",
            "      \"name\": \"greet_user\",\n",
            "      \"description\": \"Greets the User with their name.\\nArgs:\\n  greeting: A specialed greeting message for user\",\n",
            "      \"parameters\": {\n",
            "        \"properties\": {\n",
            "          \"greeting\": {\n",
            "            \"title\": \"Greeting\",\n",
            "            \"type\": \"string\"\n",
            "          }\n",
            "        },\n",
            "        \"required\": [\n",
            "          \"greeting\"\n",
            "        ],\n",
            "        \"title\": \"greet_user_args\",\n",
            "        \"type\": \"object\",\n",
            "        \"additionalProperties\": false\n",
            "      }\n",
            "    }\n",
            "  }\n",
            "]\n",
            "Stream: False\n",
            "Tool choice: NOT_GIVEN\n",
            "Response format: NOT_GIVEN\n",
            "\n"
          ]
        },
        {
          "output_type": "stream",
          "name": "stderr",
          "text": [
            "DEBUG:openai.agents:[\n",
            "  {\n",
            "    \"content\": \"Always greet the user using <function_call>greet_user</function_call> and welcome them to Panaversity\",\n",
            "    \"role\": \"system\"\n",
            "  },\n",
            "  {\n",
            "    \"role\": \"user\",\n",
            "    \"content\": \"Hello\"\n",
            "  }\n",
            "]\n",
            "Tools:\n",
            "[\n",
            "  {\n",
            "    \"type\": \"function\",\n",
            "    \"function\": {\n",
            "      \"name\": \"greet_user\",\n",
            "      \"description\": \"Greets the User with their name.\\nArgs:\\n  greeting: A specialed greeting message for user\",\n",
            "      \"parameters\": {\n",
            "        \"properties\": {\n",
            "          \"greeting\": {\n",
            "            \"title\": \"Greeting\",\n",
            "            \"type\": \"string\"\n",
            "          }\n",
            "        },\n",
            "        \"required\": [\n",
            "          \"greeting\"\n",
            "        ],\n",
            "        \"title\": \"greet_user_args\",\n",
            "        \"type\": \"object\",\n",
            "        \"additionalProperties\": false\n",
            "      }\n",
            "    }\n",
            "  }\n",
            "]\n",
            "Stream: False\n",
            "Tool choice: NOT_GIVEN\n",
            "Response format: NOT_GIVEN\n",
            "\n"
          ]
        },
        {
          "output_type": "stream",
          "name": "stdout",
          "text": [
            "LLM resp:\n",
            "{\n",
            "  \"content\": null,\n",
            "  \"refusal\": null,\n",
            "  \"role\": \"assistant\",\n",
            "  \"annotations\": null,\n",
            "  \"audio\": null,\n",
            "  \"function_call\": null,\n",
            "  \"tool_calls\": [\n",
            "    {\n",
            "      \"id\": \"\",\n",
            "      \"function\": {\n",
            "        \"arguments\": \"{\\\"greeting\\\":\\\"Welcome to Panaversity!\\\"}\",\n",
            "        \"name\": \"greet_user\"\n",
            "      },\n",
            "      \"type\": \"function\"\n",
            "    }\n",
            "  ]\n",
            "}\n",
            "\n"
          ]
        },
        {
          "output_type": "stream",
          "name": "stderr",
          "text": [
            "DEBUG:openai.agents:LLM resp:\n",
            "{\n",
            "  \"content\": null,\n",
            "  \"refusal\": null,\n",
            "  \"role\": \"assistant\",\n",
            "  \"annotations\": null,\n",
            "  \"audio\": null,\n",
            "  \"function_call\": null,\n",
            "  \"tool_calls\": [\n",
            "    {\n",
            "      \"id\": \"\",\n",
            "      \"function\": {\n",
            "        \"arguments\": \"{\\\"greeting\\\":\\\"Welcome to Panaversity!\\\"}\",\n",
            "        \"name\": \"greet_user\"\n",
            "      },\n",
            "      \"type\": \"function\"\n",
            "    }\n",
            "  ]\n",
            "}\n",
            "\n"
          ]
        },
        {
          "output_type": "stream",
          "name": "stdout",
          "text": [
            "Tracing is disabled. Not creating span <agents.tracing.span_data.FunctionSpanData object at 0x78b2cb190950>\n"
          ]
        },
        {
          "output_type": "stream",
          "name": "stderr",
          "text": [
            "DEBUG:openai.agents:Tracing is disabled. Not creating span <agents.tracing.span_data.FunctionSpanData object at 0x78b2cb190950>\n"
          ]
        },
        {
          "output_type": "stream",
          "name": "stdout",
          "text": [
            "Invoking tool greet_user with input {\"greeting\":\"Welcome to Panaversity!\"}\n"
          ]
        },
        {
          "output_type": "stream",
          "name": "stderr",
          "text": [
            "DEBUG:openai.agents:Invoking tool greet_user with input {\"greeting\":\"Welcome to Panaversity!\"}\n"
          ]
        },
        {
          "output_type": "stream",
          "name": "stdout",
          "text": [
            "Tool call args: ['Welcome to Panaversity!'], kwargs: {}\n"
          ]
        },
        {
          "output_type": "stream",
          "name": "stderr",
          "text": [
            "DEBUG:openai.agents:Tool call args: ['Welcome to Panaversity!'], kwargs: {}\n"
          ]
        },
        {
          "output_type": "stream",
          "name": "stdout",
          "text": [
            "Tool greet_user returned Hello Junaid, Welcome to Panaversity!\n"
          ]
        },
        {
          "output_type": "stream",
          "name": "stderr",
          "text": [
            "DEBUG:openai.agents:Tool greet_user returned Hello Junaid, Welcome to Panaversity!\n"
          ]
        },
        {
          "output_type": "stream",
          "name": "stdout",
          "text": [
            "Running agent Assistant (turn 2)\n"
          ]
        },
        {
          "output_type": "stream",
          "name": "stderr",
          "text": [
            "DEBUG:openai.agents:Running agent Assistant (turn 2)\n"
          ]
        },
        {
          "output_type": "stream",
          "name": "stdout",
          "text": [
            "Tracing is disabled. Not creating span <agents.tracing.span_data.GenerationSpanData object at 0x78b2cb062690>\n"
          ]
        },
        {
          "output_type": "stream",
          "name": "stderr",
          "text": [
            "DEBUG:openai.agents:Tracing is disabled. Not creating span <agents.tracing.span_data.GenerationSpanData object at 0x78b2cb062690>\n"
          ]
        },
        {
          "output_type": "stream",
          "name": "stdout",
          "text": [
            "[\n",
            "  {\n",
            "    \"content\": \"Always greet the user using <function_call>greet_user</function_call> and welcome them to Panaversity\",\n",
            "    \"role\": \"system\"\n",
            "  },\n",
            "  {\n",
            "    \"role\": \"user\",\n",
            "    \"content\": \"Hello\"\n",
            "  },\n",
            "  {\n",
            "    \"role\": \"assistant\",\n",
            "    \"tool_calls\": [\n",
            "      {\n",
            "        \"id\": \"\",\n",
            "        \"type\": \"function\",\n",
            "        \"function\": {\n",
            "          \"name\": \"greet_user\",\n",
            "          \"arguments\": \"{\\\"greeting\\\":\\\"Welcome to Panaversity!\\\"}\"\n",
            "        }\n",
            "      }\n",
            "    ]\n",
            "  },\n",
            "  {\n",
            "    \"role\": \"tool\",\n",
            "    \"tool_call_id\": \"\",\n",
            "    \"content\": \"Hello Junaid, Welcome to Panaversity!\"\n",
            "  }\n",
            "]\n",
            "Tools:\n",
            "[\n",
            "  {\n",
            "    \"type\": \"function\",\n",
            "    \"function\": {\n",
            "      \"name\": \"greet_user\",\n",
            "      \"description\": \"Greets the User with their name.\\nArgs:\\n  greeting: A specialed greeting message for user\",\n",
            "      \"parameters\": {\n",
            "        \"properties\": {\n",
            "          \"greeting\": {\n",
            "            \"title\": \"Greeting\",\n",
            "            \"type\": \"string\"\n",
            "          }\n",
            "        },\n",
            "        \"required\": [\n",
            "          \"greeting\"\n",
            "        ],\n",
            "        \"title\": \"greet_user_args\",\n",
            "        \"type\": \"object\",\n",
            "        \"additionalProperties\": false\n",
            "      }\n",
            "    }\n",
            "  }\n",
            "]\n",
            "Stream: False\n",
            "Tool choice: NOT_GIVEN\n",
            "Response format: NOT_GIVEN\n",
            "\n"
          ]
        },
        {
          "output_type": "stream",
          "name": "stderr",
          "text": [
            "DEBUG:openai.agents:[\n",
            "  {\n",
            "    \"content\": \"Always greet the user using <function_call>greet_user</function_call> and welcome them to Panaversity\",\n",
            "    \"role\": \"system\"\n",
            "  },\n",
            "  {\n",
            "    \"role\": \"user\",\n",
            "    \"content\": \"Hello\"\n",
            "  },\n",
            "  {\n",
            "    \"role\": \"assistant\",\n",
            "    \"tool_calls\": [\n",
            "      {\n",
            "        \"id\": \"\",\n",
            "        \"type\": \"function\",\n",
            "        \"function\": {\n",
            "          \"name\": \"greet_user\",\n",
            "          \"arguments\": \"{\\\"greeting\\\":\\\"Welcome to Panaversity!\\\"}\"\n",
            "        }\n",
            "      }\n",
            "    ]\n",
            "  },\n",
            "  {\n",
            "    \"role\": \"tool\",\n",
            "    \"tool_call_id\": \"\",\n",
            "    \"content\": \"Hello Junaid, Welcome to Panaversity!\"\n",
            "  }\n",
            "]\n",
            "Tools:\n",
            "[\n",
            "  {\n",
            "    \"type\": \"function\",\n",
            "    \"function\": {\n",
            "      \"name\": \"greet_user\",\n",
            "      \"description\": \"Greets the User with their name.\\nArgs:\\n  greeting: A specialed greeting message for user\",\n",
            "      \"parameters\": {\n",
            "        \"properties\": {\n",
            "          \"greeting\": {\n",
            "            \"title\": \"Greeting\",\n",
            "            \"type\": \"string\"\n",
            "          }\n",
            "        },\n",
            "        \"required\": [\n",
            "          \"greeting\"\n",
            "        ],\n",
            "        \"title\": \"greet_user_args\",\n",
            "        \"type\": \"object\",\n",
            "        \"additionalProperties\": false\n",
            "      }\n",
            "    }\n",
            "  }\n",
            "]\n",
            "Stream: False\n",
            "Tool choice: NOT_GIVEN\n",
            "Response format: NOT_GIVEN\n",
            "\n"
          ]
        },
        {
          "output_type": "stream",
          "name": "stdout",
          "text": [
            "LLM resp:\n",
            "{\n",
            "  \"content\": \"Hello Junaid, Welcome to Panaversity!\\n\",\n",
            "  \"refusal\": null,\n",
            "  \"role\": \"assistant\",\n",
            "  \"annotations\": null,\n",
            "  \"audio\": null,\n",
            "  \"function_call\": null,\n",
            "  \"tool_calls\": null\n",
            "}\n",
            "\n"
          ]
        },
        {
          "output_type": "stream",
          "name": "stderr",
          "text": [
            "DEBUG:openai.agents:LLM resp:\n",
            "{\n",
            "  \"content\": \"Hello Junaid, Welcome to Panaversity!\\n\",\n",
            "  \"refusal\": null,\n",
            "  \"role\": \"assistant\",\n",
            "  \"annotations\": null,\n",
            "  \"audio\": null,\n",
            "  \"function_call\": null,\n",
            "  \"tool_calls\": null\n",
            "}\n",
            "\n"
          ]
        },
        {
          "output_type": "stream",
          "name": "stdout",
          "text": [
            "Resetting current trace\n"
          ]
        },
        {
          "output_type": "stream",
          "name": "stderr",
          "text": [
            "DEBUG:openai.agents:Resetting current trace\n"
          ]
        },
        {
          "output_type": "stream",
          "name": "stdout",
          "text": [
            "Hello Junaid, Welcome to Panaversity!\n",
            "\n"
          ]
        }
      ]
    }
  ]
}