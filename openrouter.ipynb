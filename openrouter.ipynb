{
  "nbformat": 4,
  "nbformat_minor": 0,
  "metadata": {
    "colab": {
      "provenance": [],
      "gpuType": "T4",
      "authorship_tag": "ABX9TyNYhKs9n7qFJBfcQ8rjm4oD",
      "include_colab_link": true
    },
    "kernelspec": {
      "name": "python3",
      "display_name": "Python 3"
    },
    "language_info": {
      "name": "python"
    },
    "accelerator": "GPU"
  },
  "cells": [
    {
      "cell_type": "markdown",
      "metadata": {
        "id": "view-in-github",
        "colab_type": "text"
      },
      "source": [
        "<a href=\"https://colab.research.google.com/github/uzma-knpc/AGENTS/blob/main/openrouter.ipynb\" target=\"_parent\"><img src=\"https://colab.research.google.com/assets/colab-badge.svg\" alt=\"Open In Colab\"/></a>"
      ]
    },
    {
      "cell_type": "code",
      "execution_count": 19,
      "metadata": {
        "id": "2bDMh7wFOLk2"
      },
      "outputs": [],
      "source": [
        "!pip install -Uq openai-agents\n"
      ]
    },
    {
      "cell_type": "code",
      "source": [
        "import nest_asyncio\n",
        "nest_asyncio.apply()\n",
        ""
      ],
      "metadata": {
        "id": "2uRkSKzOO6SX"
      },
      "execution_count": 2,
      "outputs": []
    },
    {
      "cell_type": "code",
      "source": [
        "from google.colab import userdata\n",
        "OPENROUTER_API_KEY = userdata.get(\"OPENROUTER_API_KEY\")"
      ],
      "metadata": {
        "id": "FqUDumJHPDn9"
      },
      "execution_count": 6,
      "outputs": []
    },
    {
      "cell_type": "code",
      "source": [
        "#Reference: https://openrouter.ai/docs/quickstart\n",
        "BASE_URL = \"https://openrouter.ai/api/v1\"\n",
        "#MODEL=\"deepseek/deepseek-v3-base:free\"\n",
        "#BASE_URL=\"https://openrouter.ai/google/gemini-2.5-pro-exp-03-25:free\"\n",
        "MODEL = \"mistralai/mistral-small-3.1-24b-instruct:free\"\n",
        "\n",
        "# Some other free models on 26th March:\n",
        "# https://openrouter.ai/deepseek/deepseek-chat-v3-0324:free\n",
        "# https://openrouter.ai/google/gemini-2.5-pro-exp-03-25:free\n",
        "#BASE_URL=\"https://openrouter.ai/google/gemini-2.5-pro-exp-03-25:free\"\n",
        "#MODEL = \"google/gemini-2.0-flash-lite-preview-02-05:free\"\n",
        "#BASE_URL=\"https://openrouter.ai/deepseek/deepseek-chat-v3-0324:free\"\n",
        ""
      ],
      "metadata": {
        "id": "aPPuK7dhPVZF"
      },
      "execution_count": 25,
      "outputs": []
    },
    {
      "cell_type": "code",
      "source": [
        "import requests\n",
        "import json\n",
        "\n",
        "response = requests.post(                        #python package\n",
        "  url=f\"{BASE_URL}/chat/completions\",\n",
        "  headers={\n",
        "    \"Authorization\": f\"Bearer {OPENROUTER_API_KEY}\",     #send our api key\n",
        "  },\n",
        "  data=json.dumps({\n",
        "    \"model\": MODEL,\n",
        "    \"messages\": [\n",
        "      {\n",
        "        \"role\": \"user\",\n",
        "        \"content\": \"tell me about the ELECTA versa LINAC radiotherapy machine\"\n",
        "      }\n",
        "    ]\n",
        "  })\n",
        ")\n",
        "print(response.json())"
      ],
      "metadata": {
        "colab": {
          "base_uri": "https://localhost:8080/"
        },
        "collapsed": true,
        "id": "gPTx3LKCQx5r",
        "outputId": "32cf22d7-5a1e-4bb1-8dd5-14d53c4407b3"
      },
      "execution_count": 33,
      "outputs": [
        {
          "output_type": "stream",
          "name": "stdout",
          "text": [
            "{'id': 'gen-1745764886-jKi7nd71PiAn2vcUqSt3', 'provider': 'Chutes', 'model': 'mistralai/mistral-small-3.1-24b-instruct:free', 'object': 'chat.completion', 'created': 1745764886, 'choices': [{'logprobs': None, 'finish_reason': 'stop', 'native_finish_reason': 'stop', 'index': 0, 'message': {'role': 'assistant', 'content': \"The ELECTA Versa HD™ (or Versa LINEAC, as it is sometimes referred) is a state-of-the-art linear accelerator (LINAC) used in radiation therapy for cancer treatment. Developed by ELECTA (a company known for its innovations in medical technology), the Versa HD provides advanced capabilities for delivering precise and effective radiation treatments. Here are some key features and aspects of the ELECTA Versa HD:\\n\\n### Key Features:\\n\\n1. **High-Dose Rate Beam**:\\n   - The Versa HD can deliver high-dose rate beams, which allows for faster treatment times and reduced chance of target motion, improving treatment precision.\\n\\n2. **Versatility**:\\n   - The machine is highly versatile, supporting a range of treatment techniques including Intensity-Modulated Radiation Therapy (IMRT), Volumetric Modulated Arc Therapy (VMAT), Stereotactic Radiotherapy (SRT), and Stereotactic Body Radiotherapy (SBRT), among others.\\n\\n3. **Accuracy and Precision**:\\n   - Equipped with advanced imaging capabilities (such as cone-beam CT and kV imaging), the Versa HD provides detailed images that help in real-time treatment planning and delivery, ensuring high accuracy and precision.\\n\\n4. **RapidArc Technology**:\\n   - This technology allows for continuous, 360-degree beam delivery around the patient, which can significantly reduce treatment times and improve treatment planning flexibility.\\n\\n5. **Agility Beam Modulator**:\\n   - The system includes a multi-leaf collimator (MLC) with fine leaf width that provides sub-millimeter precision in shaping the radiation beam to conform to the tumor shape while sparing surrounding healthy tissue.\\n\\n6. **Adaptive Radiotherapy**:\\n   - The Versa HD supports adaptive radiotherapy, allowing for adjustments to the treatment plan based on changes in the patient's anatomy or tumor characteristics over the course of treatment.\\n\\n### Benefits:\\n\\n1. **Efficiency**:\\n   - The advanced features of the Versa HD improve the speed and efficiency of treatment delivery, meaning that patients can complete their sessions more quickly.\\n\\n2. **Patient Comfort**:\\n   - The design of the Versa HD focuses on patient comfort, with features that help reduce anxiety and improve the overall experience of radiation therapy.\\n\\n3. **Enhanced Dosimetry**:\\n   - The machine provides better dosimetry, ensuring that the correct dose of radiation is delivered to the tumor while sparing nearby healthy tissues.\\n\\n4. **Clinical Flexibility**:\\n   - The Versa HD offers a wide range of clinical applications, making it suitable for treating various types of cancers and providing bespoke treatment plans tailored to individual patient needs.\\n\\n### Applications:\\n\\n- **Head and Neck Cancer**:\\n  - Precise targeting of tumor sites in the head and neck region, while minimizing radiation exposure to critical structures like the parotid glands, larynx, and brainstem.\\n\\n- **Prostate Cancer**:\\n  - Accurate delivery of radiation to prostate tumors, with reduced effects on surrounding tissues like the bladder and rectum.\\n\\n- **Lung Cancer**:\\n  - Ability to deliver high doses of radiation to lung tumors, often through stereotactic techniques like SBRT, which are particularly effective for small, localized tumors.\\n\\n### Conclusion:\\n\\nThe ELECTA Versa HD is a sophisticated LINAC designed to deliver cutting-edge radiotherapy with advanced imaging, precision dosimetry, and efficient treatment delivery. It represents a major advancement in radiation oncology, enhancing the ability of medical professionals to treat a variety of cancers effectively and safely.\", 'refusal': None, 'reasoning': None}}], 'usage': {'prompt_tokens': 16, 'completion_tokens': 710, 'total_tokens': 726}}\n"
          ]
        }
      ]
    },
    {
      "cell_type": "code",
      "source": [
        "data=response.json()\n",
        "data['choices'][0]['message']['content']"
      ],
      "metadata": {
        "colab": {
          "base_uri": "https://localhost:8080/",
          "height": 174
        },
        "id": "nOJwQE5SWAHI",
        "outputId": "3ee01708-622b-4af0-aebe-58ea5b0aed75"
      },
      "execution_count": 34,
      "outputs": [
        {
          "output_type": "execute_result",
          "data": {
            "text/plain": [
              "\"The ELECTA Versa HD™ (or Versa LINEAC, as it is sometimes referred) is a state-of-the-art linear accelerator (LINAC) used in radiation therapy for cancer treatment. Developed by ELECTA (a company known for its innovations in medical technology), the Versa HD provides advanced capabilities for delivering precise and effective radiation treatments. Here are some key features and aspects of the ELECTA Versa HD:\\n\\n### Key Features:\\n\\n1. **High-Dose Rate Beam**:\\n   - The Versa HD can deliver high-dose rate beams, which allows for faster treatment times and reduced chance of target motion, improving treatment precision.\\n\\n2. **Versatility**:\\n   - The machine is highly versatile, supporting a range of treatment techniques including Intensity-Modulated Radiation Therapy (IMRT), Volumetric Modulated Arc Therapy (VMAT), Stereotactic Radiotherapy (SRT), and Stereotactic Body Radiotherapy (SBRT), among others.\\n\\n3. **Accuracy and Precision**:\\n   - Equipped with advanced imaging capabilities (such as cone-beam CT and kV imaging), the Versa HD provides detailed images that help in real-time treatment planning and delivery, ensuring high accuracy and precision.\\n\\n4. **RapidArc Technology**:\\n   - This technology allows for continuous, 360-degree beam delivery around the patient, which can significantly reduce treatment times and improve treatment planning flexibility.\\n\\n5. **Agility Beam Modulator**:\\n   - The system includes a multi-leaf collimator (MLC) with fine leaf width that provides sub-millimeter precision in shaping the radiation beam to conform to the tumor shape while sparing surrounding healthy tissue.\\n\\n6. **Adaptive Radiotherapy**:\\n   - The Versa HD supports adaptive radiotherapy, allowing for adjustments to the treatment plan based on changes in the patient's anatomy or tumor characteristics over the course of treatment.\\n\\n### Benefits:\\n\\n1. **Efficiency**:\\n   - The advanced features of the Versa HD improve the speed and efficiency of treatment delivery, meaning that patients can complete their sessions more quickly.\\n\\n2. **Patient Comfort**:\\n   - The design of the Versa HD focuses on patient comfort, with features that help reduce anxiety and improve the overall experience of radiation therapy.\\n\\n3. **Enhanced Dosimetry**:\\n   - The machine provides better dosimetry, ensuring that the correct dose of radiation is delivered to the tumor while sparing nearby healthy tissues.\\n\\n4. **Clinical Flexibility**:\\n   - The Versa HD offers a wide range of clinical applications, making it suitable for treating various types of cancers and providing bespoke treatment plans tailored to individual patient needs.\\n\\n### Applications:\\n\\n- **Head and Neck Cancer**:\\n  - Precise targeting of tumor sites in the head and neck region, while minimizing radiation exposure to critical structures like the parotid glands, larynx, and brainstem.\\n\\n- **Prostate Cancer**:\\n  - Accurate delivery of radiation to prostate tumors, with reduced effects on surrounding tissues like the bladder and rectum.\\n\\n- **Lung Cancer**:\\n  - Ability to deliver high doses of radiation to lung tumors, often through stereotactic techniques like SBRT, which are particularly effective for small, localized tumors.\\n\\n### Conclusion:\\n\\nThe ELECTA Versa HD is a sophisticated LINAC designed to deliver cutting-edge radiotherapy with advanced imaging, precision dosimetry, and efficient treatment delivery. It represents a major advancement in radiation oncology, enhancing the ability of medical professionals to treat a variety of cancers effectively and safely.\""
            ],
            "application/vnd.google.colaboratory.intrinsic+json": {
              "type": "string"
            }
          },
          "metadata": {},
          "execution_count": 34
        }
      ]
    },
    {
      "cell_type": "markdown",
      "source": [
        "##USING OPEN_AI_SDK"
      ],
      "metadata": {
        "id": "uCRYMs_hgleY"
      }
    },
    {
      "cell_type": "code",
      "source": [
        "import asyncio\n",
        "from openai import AsyncOpenAI\n",
        "from agents import Agent, OpenAIChatCompletionsModel, Runner, set_tracing_disabled\n",
        "\n",
        "client = AsyncOpenAI(\n",
        "    api_key=OPENROUTER_API_KEY,\n",
        "    base_url=BASE_URL\n",
        ")\n"
      ],
      "metadata": {
        "id": "LbZJRBPigrj9"
      },
      "execution_count": 35,
      "outputs": []
    },
    {
      "cell_type": "code",
      "source": [
        "set_tracing_disabled(disabled=True)\n",
        "\n",
        "async def main():\n",
        "    # This agent will use the custom LLM provider\n",
        "    agent = Agent(\n",
        "        name=\"Assistant\",\n",
        "        instructions=\"You only respond in urdu.\",\n",
        "        model=OpenAIChatCompletionsModel(model=\"mistralai/mistral-small-3.1-24b-instruct:free\", openai_client=client),\n",
        "    )\n",
        "\n",
        "    result = await Runner.run(\n",
        "        agent,\n",
        "        \"Tell me capital of pakistan.\",\n",
        "    )\n",
        "    print(result.final_output)\n"
      ],
      "metadata": {
        "id": "MW3mITHPgzfi"
      },
      "execution_count": 36,
      "outputs": []
    },
    {
      "cell_type": "code",
      "source": [
        "if __name__ == \"__main__\":\n",
        "   asyncio.run(main())"
      ],
      "metadata": {
        "colab": {
          "base_uri": "https://localhost:8080/"
        },
        "id": "ZMn_KXXgg9cs",
        "outputId": "cafeff9d-1068-4e35-a9bc-82c0d53210fc"
      },
      "execution_count": 37,
      "outputs": [
        {
          "output_type": "stream",
          "name": "stdout",
          "text": [
            "پاکستان کا دارالحکومت اسلام آباد ہے۔\n"
          ]
        }
      ]
    }
  ]
}